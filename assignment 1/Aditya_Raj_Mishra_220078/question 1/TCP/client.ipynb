{
 "cells": [
  {
   "cell_type": "markdown",
   "id": "5701428c",
   "metadata": {},
   "source": [
    "# Using TCP\n",
    "## Client"
   ]
  },
  {
   "cell_type": "code",
   "execution_count": 4,
   "id": "1242e558",
   "metadata": {},
   "outputs": [
    {
     "name": "stdout",
     "output_type": "stream",
     "text": [
      "Input lowercase sentence:aditya raj mishra\n",
      "From Server: ADITYA RAJ MISHRA\n"
     ]
    }
   ],
   "source": [
    "import socket\n",
    "\n",
    "client = socket.socket(socket.AF_INET, socket.SOCK_STREAM)\n",
    "server_name='localhost'       \n",
    "server_port=11000\n",
    "client.connect((server_name,server_port))     # connecting to the same port\n",
    "sentence=input('Input lowercase sentence:')   #taking inputs\n",
    "client.send(sentence.encode())                #encoding strings to byte to send information\n",
    "modifiedSentence = client.recv(1024)         #recieving information from server\n",
    "print ('From Server:', modifiedSentence.decode())\n",
    "client.close()   #closing client\n"
   ]
  },
  {
   "cell_type": "code",
   "execution_count": null,
   "id": "b991464e",
   "metadata": {},
   "outputs": [],
   "source": []
  },
  {
   "cell_type": "code",
   "execution_count": null,
   "id": "f1afdbba",
   "metadata": {},
   "outputs": [],
   "source": []
  }
 ],
 "metadata": {
  "kernelspec": {
   "display_name": "Python 3 (ipykernel)",
   "language": "python",
   "name": "python3"
  },
  "language_info": {
   "codemirror_mode": {
    "name": "ipython",
    "version": 3
   },
   "file_extension": ".py",
   "mimetype": "text/x-python",
   "name": "python",
   "nbconvert_exporter": "python",
   "pygments_lexer": "ipython3",
   "version": "3.11.3"
  }
 },
 "nbformat": 4,
 "nbformat_minor": 5
}
