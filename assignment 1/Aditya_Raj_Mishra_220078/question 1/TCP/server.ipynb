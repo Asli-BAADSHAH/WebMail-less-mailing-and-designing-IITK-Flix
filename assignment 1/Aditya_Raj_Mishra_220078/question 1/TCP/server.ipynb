{
 "cells": [
  {
   "cell_type": "markdown",
   "id": "11cbb7a1",
   "metadata": {},
   "source": [
    "# using TCP\n",
    "## server\n"
   ]
  },
  {
   "cell_type": "code",
   "execution_count": 1,
   "id": "08a147f5",
   "metadata": {},
   "outputs": [],
   "source": [
    "import socket\n",
    "\n",
    "server = socket.socket(socket.AF_INET, socket.SOCK_STREAM)\n",
    "server_name='localhost'\n",
    "server_port=11000\n",
    "server.bind((server_name, server_port))   #binding server to port\n",
    "server.listen(1)                          #connecting to client  \n",
    "#taking input from client\n",
    "connectionSocket, addr = server.accept()\n",
    "sentence = connectionSocket.recv(1024).decode()\n",
    "capitalizedSentence = sentence.upper()     #changing lowercase to uppercase according to requirements\n",
    "connectionSocket.send(capitalizedSentence.encode())   #sending again to client \n",
    "connectionSocket.close()     #closing socket"
   ]
  },
  {
   "cell_type": "code",
   "execution_count": null,
   "id": "16bdba4f",
   "metadata": {},
   "outputs": [],
   "source": []
  },
  {
   "cell_type": "code",
   "execution_count": null,
   "id": "3f0c05df",
   "metadata": {},
   "outputs": [],
   "source": []
  },
  {
   "cell_type": "code",
   "execution_count": null,
   "id": "7699b30b",
   "metadata": {},
   "outputs": [],
   "source": []
  }
 ],
 "metadata": {
  "kernelspec": {
   "display_name": "Python 3 (ipykernel)",
   "language": "python",
   "name": "python3"
  },
  "language_info": {
   "codemirror_mode": {
    "name": "ipython",
    "version": 3
   },
   "file_extension": ".py",
   "mimetype": "text/x-python",
   "name": "python",
   "nbconvert_exporter": "python",
   "pygments_lexer": "ipython3",
   "version": "3.11.3"
  }
 },
 "nbformat": 4,
 "nbformat_minor": 5
}
