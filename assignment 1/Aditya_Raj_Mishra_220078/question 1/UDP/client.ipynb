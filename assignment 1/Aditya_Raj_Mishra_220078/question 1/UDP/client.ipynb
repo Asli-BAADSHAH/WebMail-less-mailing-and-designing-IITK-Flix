{
 "cells": [
  {
   "cell_type": "code",
   "execution_count": 1,
   "id": "5b035951",
   "metadata": {},
   "outputs": [
    {
     "name": "stdout",
     "output_type": "stream",
     "text": [
      "Enter your text: socket programming\n",
      "message from server:  SOCKET PROGRAMMING\n"
     ]
    }
   ],
   "source": [
    "import socket\n",
    "client = socket.socket(socket.AF_INET, socket.SOCK_DGRAM)\n",
    "server_name='localhost'\n",
    "server_port=28000\n",
    "\n",
    "client.connect((server_name,server_port))\n",
    "\n",
    "message=input(\"Enter your text: \")\n",
    "client.send(message.encode())#,(server_name,server_port))\n",
    "modifiedmsg,serveradd=client.recvfrom(1024)\n",
    "print('message from server: ',modifiedmsg.decode())\n",
    "client.close()"
   ]
  },
  {
   "cell_type": "code",
   "execution_count": null,
   "id": "b0d1bc82",
   "metadata": {},
   "outputs": [],
   "source": []
  },
  {
   "cell_type": "code",
   "execution_count": null,
   "id": "efd118a0",
   "metadata": {},
   "outputs": [],
   "source": []
  }
 ],
 "metadata": {
  "kernelspec": {
   "display_name": "Python 3 (ipykernel)",
   "language": "python",
   "name": "python3"
  },
  "language_info": {
   "codemirror_mode": {
    "name": "ipython",
    "version": 3
   },
   "file_extension": ".py",
   "mimetype": "text/x-python",
   "name": "python",
   "nbconvert_exporter": "python",
   "pygments_lexer": "ipython3",
   "version": "3.11.3"
  }
 },
 "nbformat": 4,
 "nbformat_minor": 5
}
