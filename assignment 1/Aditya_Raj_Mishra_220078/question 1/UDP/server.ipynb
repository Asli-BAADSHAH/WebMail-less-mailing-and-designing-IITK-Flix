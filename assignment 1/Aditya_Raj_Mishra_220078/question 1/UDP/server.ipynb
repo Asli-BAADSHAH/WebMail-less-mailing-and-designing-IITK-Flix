{
 "cells": [
  {
   "cell_type": "markdown",
   "id": "2cc0ea1b",
   "metadata": {},
   "source": [
    "# Using UDP\n",
    "## server"
   ]
  },
  {
   "cell_type": "code",
   "execution_count": null,
   "id": "a57febc4",
   "metadata": {},
   "outputs": [],
   "source": [
    "import socket\n",
    "server = socket.socket(socket.AF_INET, socket.SOCK_DGRAM)\n",
    "server_name='localhost'\n",
    "server_port=28000\n",
    "server.bind((server_name, server_port))\n",
    "while True:\n",
    "  message, clientadd=server.recvfrom(1024)\n",
    "  modifiedmsg=message.decode().upper()\n",
    "  server.sendto(modifiedmsg.encode(),clientadd)\n",
    "  "
   ]
  },
  {
   "cell_type": "code",
   "execution_count": null,
   "id": "0aeb0ddd",
   "metadata": {},
   "outputs": [],
   "source": []
  }
 ],
 "metadata": {
  "kernelspec": {
   "display_name": "Python 3 (ipykernel)",
   "language": "python",
   "name": "python3"
  },
  "language_info": {
   "codemirror_mode": {
    "name": "ipython",
    "version": 3
   },
   "file_extension": ".py",
   "mimetype": "text/x-python",
   "name": "python",
   "nbconvert_exporter": "python",
   "pygments_lexer": "ipython3",
   "version": "3.11.3"
  }
 },
 "nbformat": 4,
 "nbformat_minor": 5
}
