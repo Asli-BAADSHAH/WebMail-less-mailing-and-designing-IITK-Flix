{
 "cells": [
  {
   "cell_type": "markdown",
   "id": "e707b452",
   "metadata": {},
   "source": [
    "# client code"
   ]
  },
  {
   "cell_type": "code",
   "execution_count": null,
   "id": "d4f15935",
   "metadata": {},
   "outputs": [],
   "source": [
    "\n",
    "import pickle\n",
    "import cv2\n",
    "import struct\n",
    "import imutils\n",
    "\n",
    "import socket\n",
    "\n",
    "client = socket.socket(socket.AF_INET, socket.SOCK_STREAM)\n",
    "server_name='localhost'       \n",
    "server_port=12000\n",
    "client.connect((server_name,server_port))\n",
    "\n",
    "data=b\"\"\n",
    "payload_size=struct.calcsize(\"Q\")\n",
    "\n",
    "while True:\n",
    "    while len(data)<payload_size:\n",
    "        packet=client.recv(4*1024)\n",
    "        if not packet:\n",
    "            break\n",
    "        data+=packet\n",
    "    packedmsg_size=data[:payload_size]\n",
    "    data=data[payload_size:]\n",
    "    msg_size=struct.unpack(\"Q\",packedmsg_size)[0]\n",
    "    while len(data)<msg_size:\n",
    "        data+=client.recv(4*1024)\n",
    "    frame_data=data[:msg_size]\n",
    "    data=data[msg_size:]\n",
    "    frame=pickle.loads(frame_data)\n",
    "    cv2.imshow(\"recieving...\",frame)\n",
    "    key=cv2.waitKey(10)\n",
    "    if key==13:\n",
    "        break\n",
    "client.close()"
   ]
  },
  {
   "cell_type": "code",
   "execution_count": null,
   "id": "6c09dec1",
   "metadata": {},
   "outputs": [],
   "source": []
  }
 ],
 "metadata": {
  "kernelspec": {
   "display_name": "Python 3 (ipykernel)",
   "language": "python",
   "name": "python3"
  },
  "language_info": {
   "codemirror_mode": {
    "name": "ipython",
    "version": 3
   },
   "file_extension": ".py",
   "mimetype": "text/x-python",
   "name": "python",
   "nbconvert_exporter": "python",
   "pygments_lexer": "ipython3",
   "version": "3.11.3"
  }
 },
 "nbformat": 4,
 "nbformat_minor": 5
}
