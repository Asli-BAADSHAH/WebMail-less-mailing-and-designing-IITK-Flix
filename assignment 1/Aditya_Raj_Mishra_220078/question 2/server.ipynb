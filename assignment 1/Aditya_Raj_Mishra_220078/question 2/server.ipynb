{
 "cells": [
  {
   "cell_type": "markdown",
   "id": "a74ef783",
   "metadata": {},
   "source": [
    "# server code"
   ]
  },
  {
   "cell_type": "code",
   "execution_count": null,
   "id": "3464c3bb",
   "metadata": {},
   "outputs": [],
   "source": [
    "\n",
    "import pickle\n",
    "import cv2\n",
    "import struct\n",
    "import imutils\n",
    "\n",
    "import socket\n",
    "\n",
    "server = socket.socket(socket.AF_INET, socket.SOCK_STREAM)\n",
    "server_name='localhost'\n",
    "server_port=12000\n",
    "server.bind((server_name, server_port))\n",
    "server.listen(5)\n",
    "\n",
    "while True:\n",
    "    client,addr=server.accept()\n",
    "    if client:\n",
    "        vid=cv2.VideoCapture(0)\n",
    "        while (vid.isOpened()):\n",
    "            img,frame=vid.read()\n",
    "            a=pickle.dumps(frame)\n",
    "            message=struct.pack(\"Q\",len(a))+a\n",
    "            client.sendall(message)\n",
    "            cv2.imshow(\"sending...\",frame)\n",
    "            key=cv2.waitKey(10)\n",
    "            if key==13:\n",
    "                client.close()\n",
    "            \n",
    "            "
   ]
  },
  {
   "cell_type": "code",
   "execution_count": null,
   "id": "3c4202aa",
   "metadata": {},
   "outputs": [],
   "source": []
  }
 ],
 "metadata": {
  "kernelspec": {
   "display_name": "Python 3 (ipykernel)",
   "language": "python",
   "name": "python3"
  },
  "language_info": {
   "codemirror_mode": {
    "name": "ipython",
    "version": 3
   },
   "file_extension": ".py",
   "mimetype": "text/x-python",
   "name": "python",
   "nbconvert_exporter": "python",
   "pygments_lexer": "ipython3",
   "version": "3.11.3"
  }
 },
 "nbformat": 4,
 "nbformat_minor": 5
}
